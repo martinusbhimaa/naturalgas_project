{
  "nbformat": 4,
  "nbformat_minor": 0,
  "metadata": {
    "colab": {
      "name": "gasProp.ipynb",
      "provenance": [],
      "collapsed_sections": []
    },
    "kernelspec": {
      "name": "python3",
      "display_name": "Python 3"
    },
    "language_info": {
      "name": "python"
    }
  },
  "cells": [
    {
      "cell_type": "code",
      "execution_count": 63,
      "metadata": {
        "id": "KDavjimnKq8b"
      },
      "outputs": [],
      "source": [
        "import math\n",
        "import numpy as np\n",
        "import pandas as pd\n",
        "from sympy import var, solveset, S\n",
        "from sympy import *\n",
        "from sympy import Symbol\n",
        "from scipy import interpolate\n",
        "from scipy import stats\n",
        "from matplotlib import pyplot as plt\n",
        "# import mpl_axes_aligner"
      ]
    },
    {
      "cell_type": "code",
      "source": [
        "#Input Database\n",
        "\n",
        "N = 7\n",
        "Pc = np.array([673.3, 709, 617.4, 550.4, 487, 439.6, 260]) #in Psi\n",
        "Tc = np.array([342.67, 549.67, 665.77, 765.27, 845.28, 913.392, 1116]) #in Rankine\n",
        "w = np.array([0.011, 0.099, 0.153, 0.199, 0.251, 0.3, 0.65])\n",
        "MW = np.array([16.04, 30.07, 44.1, 58.12, 72.15, 86.18, 210])\n",
        "y = np.array([0.74,0.05,0.04,0.04,0.03,0.02,0.08])\n",
        "#Input PT Condition\n",
        "R = 10.731577089016\n",
        "P = 2000\n",
        "T = 150 "
      ],
      "metadata": {
        "id": "pqPm9PxfKt3S"
      },
      "execution_count": 64,
      "outputs": []
    },
    {
      "cell_type": "code",
      "source": [
        "def ZBB(P,T):\n",
        "  Pc = np.array([673.3, 709, 617.4, 550.4, 487, 439.6, 260]) #in Psi\n",
        "  Tc = np.array([342.67, 549.67, 665.77, 765.27, 845.28, 913.392, 1116]) #in Rankine\n",
        "  y = np.array([0.74,0.05,0.04,0.04,0.03,0.02,0.08])\n",
        "  Ppc = 0\n",
        "  Tpc = 0\n",
        "  for i in range (N):\n",
        "    Ppc += Pc[i]*y[i]\n",
        "    Tpc += Tc[i]*y[i]\n",
        "  Pr = P/Ppc\n",
        "  Tr = (T+460)/Tpc\n",
        "  A = 1.39*(Tr-0.92)**0.5-0.36*Tr-0.101\n",
        "  A1 = (1-(1.39*(Tr-0.92)**0.5-0.36*Tr-0.101))/math.exp((0.62-0.23*Tr)*Pr+(0.066/(Tr-0.86)-0.037)*Pr**2+0.32/10**(9*(Tr-1))*Pr**6)\n",
        "  A2 = (0.132-0.32*math.log(Tr,10))*Pr**(10**(0.3106-0.49*Tr+0.1824*Tr**2))\n",
        "  return(A+A1+A2)"
      ],
      "metadata": {
        "id": "iSNK8zdREoPn"
      },
      "execution_count": 65,
      "outputs": []
    },
    {
      "cell_type": "code",
      "source": [
        "A =[]\n",
        "for i in range (N):\n",
        "  if w[i] <= 0.49:\n",
        "    m = 0.37464+1.5422*w[i]-0.26992*w[i]**2\n",
        "  elif w[i] > 0.49:\n",
        "    m = 0.379642+1.48503*w[i]-0.164423*w[i]**2+0.016666*w[i]**3\n",
        "  # a = 0.45724*R*R*Tc[i]*Tc[i]/Pc[i]*(1+m*(1-math.sqrt((T+459.67)/Tc[i])))**2/(R**2*(T+459.67)**2)*P\n",
        "  a = (1+m*(1-math.sqrt((T+459.67)/Tc[i])))**2\n",
        "  Ai = 0.45724*(P/Pc[i])/(((T+459.67)/Tc[i])**2)*a\n",
        "  A.append(Ai)\n",
        "print(A)"
      ],
      "metadata": {
        "colab": {
          "base_uri": "https://localhost:8080/"
        },
        "id": "PG8KQvEWk_fY",
        "outputId": "2ee2e432-cf72-4a53-f686-29797f2136b3"
      },
      "execution_count": 66,
      "outputs": [
        {
          "output_type": "stream",
          "name": "stdout",
          "text": [
            "[0.32421901422177324, 0.9907623307999818, 1.8594201952167717, 3.0087332779484925, 4.465418890885273, 6.161961916801098, 20.970373676797387]\n"
          ]
        }
      ]
    },
    {
      "cell_type": "code",
      "source": [
        "B = []\n",
        "for i in range (N):\n",
        "  b = 0.0778*(P/Pc[i])/((T+459.67)/Tc[i])\n",
        "  B.append(b)\n",
        "# print(B)"
      ],
      "metadata": {
        "id": "dPDFbl_z9Cpx"
      },
      "execution_count": 67,
      "outputs": []
    },
    {
      "cell_type": "code",
      "source": [
        "sigma_A = 0\n",
        "sigma_B = 0\n",
        "for i in range (N):\n",
        "  for j in range (N):\n",
        "    sigma_A += y[i]*y[j]*((A[i]*A[j])**0.5)\n",
        "  sigma_B += y[i]*B[i]\n",
        "print(sigma_A)\n",
        "print(sigma_B)"
      ],
      "metadata": {
        "colab": {
          "base_uri": "https://localhost:8080/"
        },
        "id": "AZsGN6HC4Hcl",
        "outputId": "12abda7d-80f8-4281-c2f7-0a6af92db0fe"
      },
      "execution_count": 68,
      "outputs": [
        {
          "output_type": "stream",
          "name": "stdout",
          "text": [
            "1.1544252880190746\n",
            "0.2427500641591585\n"
          ]
        }
      ]
    },
    {
      "cell_type": "code",
      "source": [
        "c3 = 1\n",
        "c2 = -(1-sigma_B)\n",
        "c1 = sigma_A-3*sigma_B**2-2*sigma_B\n",
        "c0 = -(sigma_A*sigma_B-sigma_B**2-sigma_B**3)\n",
        "Z = var('Z', real=True)\n",
        "result = list(solveset(c3*Z**3+c2*Z**2+c1*Z+c0, Z, domain=S.Reals))\n",
        "z = result\n",
        "z"
      ],
      "metadata": {
        "colab": {
          "base_uri": "https://localhost:8080/"
        },
        "id": "8g_psLJt-RSu",
        "outputId": "0cdf9823-3038-4632-85eb-4f1df71db28b"
      },
      "execution_count": 69,
      "outputs": [
        {
          "output_type": "execute_result",
          "data": {
            "text/plain": [
              "[0.548264689646900]"
            ]
          },
          "metadata": {},
          "execution_count": 69
        }
      ]
    },
    {
      "cell_type": "code",
      "source": [
        "MWa = 0\n",
        "for i in range (N):\n",
        "  MWa += MW[i]*y[i]\n",
        "print(\"Specific Gravity (SG) = \", MWa/28.97) "
      ],
      "metadata": {
        "colab": {
          "base_uri": "https://localhost:8080/"
        },
        "id": "Tp91fidDKvhd",
        "outputId": "1ec27c85-c7be-46da-861c-d4a0cc6ee8f9"
      },
      "execution_count": 70,
      "outputs": [
        {
          "output_type": "stream",
          "name": "stdout",
          "text": [
            "Specific Gravity (SG) =  1.3168795305488439\n"
          ]
        }
      ]
    },
    {
      "cell_type": "code",
      "source": [
        "Bg = 0.0283* z[0]*(T+459.67)/P\n",
        "print(\"Gas Formation Volume Factor =\", Bg, \"cu-ft/scf\")"
      ],
      "metadata": {
        "colab": {
          "base_uri": "https://localhost:8080/"
        },
        "id": "gbHyECzmN6ci",
        "outputId": "77a487d8-37d7-470e-dd64-99df59a68b5b"
      },
      "execution_count": 71,
      "outputs": [
        {
          "output_type": "stream",
          "name": "stdout",
          "text": [
            "Gas Formation Volume Factor = 0.00472978654671892 cu-ft/scf\n"
          ]
        }
      ]
    },
    {
      "cell_type": "code",
      "source": [
        "rho_g = 2.7*MWa/28.97*P/(z[0]*(T+459.67))\n",
        "print(\"Gas Density =\", rho_g, \"lbm/cu-ft\")"
      ],
      "metadata": {
        "colab": {
          "base_uri": "https://localhost:8080/"
        },
        "id": "I-Hb2pcpPmuk",
        "outputId": "ac541981-07c1-425e-9a59-ee93cbd497c3"
      },
      "execution_count": 72,
      "outputs": [
        {
          "output_type": "stream",
          "name": "stdout",
          "text": [
            "Gas Density = 21.2742718799942 lbm/cu-ft\n"
          ]
        }
      ]
    },
    {
      "cell_type": "code",
      "source": [
        "def vis_g(T, MWa, rho):\n",
        "  A = ((9.379+0.01607*MWa)*(T+459.67)**1.5)/(209.2+19.26*MWa+(T+459.67))\n",
        "  B = 3.448+986.4/(T+459.67)+0.01009*MWa\n",
        "  C = 2.447-0.2224*B\n",
        "  return(A*exp(B*rho**C)/(10**4))\n",
        "print(\"Gas Viscosity=\", vis_g(T,MWa,rho_g/62.428), \"cP\")"
      ],
      "metadata": {
        "colab": {
          "base_uri": "https://localhost:8080/"
        },
        "id": "Q1uqfQ8xZ8jK",
        "outputId": "ba36fe35-15f2-4ca5-915b-f37c40d2c98f"
      },
      "execution_count": 73,
      "outputs": [
        {
          "output_type": "stream",
          "name": "stdout",
          "text": [
            "Gas Viscosity= 0.0409766645257511 cP\n"
          ]
        }
      ]
    },
    {
      "cell_type": "code",
      "source": [
        "print(\"Z Factor from Beggs-Brill Correlation is\", ZBB(P,T))\n",
        "print(\"It deviates for\", abs(ZBB(P,T)-z[0])/ZBB(P,T)*100,\"%\")"
      ],
      "metadata": {
        "colab": {
          "base_uri": "https://localhost:8080/"
        },
        "id": "30_qOKHUFq5x",
        "outputId": "bd5471ba-6a1d-4aa9-dd63-ea9a3302a5dd"
      },
      "execution_count": 74,
      "outputs": [
        {
          "output_type": "stream",
          "name": "stdout",
          "text": [
            "Z Factor from Beggs-Brill Correlation is 0.6135653112510844\n",
            "It deviates for 10.6428151016284 %\n"
          ]
        }
      ]
    },
    {
      "cell_type": "code",
      "source": [
        "Bg_corr = 0.0283* ZBB(P,T)*(T+459.67)/P\n",
        "Bg_corr"
      ],
      "metadata": {
        "colab": {
          "base_uri": "https://localhost:8080/"
        },
        "id": "l2Y9yqbtfnZY",
        "outputId": "6ed42810-6abb-4ce3-e8d5-8a9418e397c0"
      },
      "execution_count": 75,
      "outputs": [
        {
          "output_type": "execute_result",
          "data": {
            "text/plain": [
              "0.0052931239408428475"
            ]
          },
          "metadata": {},
          "execution_count": 75
        }
      ]
    },
    {
      "cell_type": "markdown",
      "source": [
        "# Pseudo Pressure"
      ],
      "metadata": {
        "id": "nuhtJ84Jf-rm"
      }
    },
    {
      "cell_type": "code",
      "source": [
        "Pressure_x = np.array([300,600,900,1200,1500,1800,2100])\n",
        "Z_x = []\n",
        "vis_x = []\n",
        "E_x = 0 \n",
        "F_x = Pressure_x[1]-Pressure_x[0]\n",
        "H_x = 0\n",
        "psi = []\n",
        "for i in range (len(Pressure_x)):\n",
        "  Z_corr = ZBB(P,T)\n",
        "  rho_g = 2.7*MWa/28.97*P/(Z_corr*(T+459.67))\n",
        "  vis_corr = vis_g(T, MWa, rho_g/62.428)\n",
        "  D_x = 2*P/Z_corr/vis_corr\n",
        "  E_x =(E_x + D_x)/2\n",
        "  G_x = E_x*F_x\n",
        "  H_x += G_x\n",
        "  psi.append(H_x)\n",
        "ax = plt.plot(Pressure_x, psi, marker = '.')\n",
        "plt.title(\"Pseudopressure vs Pressure\", size=14)\n",
        "plt.xlabel(\"Pressure [psi]\")\n",
        "plt.ylabel(\"Pseudopressure [psi^2/cp]\")\n",
        "plt.show"
      ],
      "metadata": {
        "colab": {
          "base_uri": "https://localhost:8080/",
          "height": 314
        },
        "id": "tsxcHxKWgUEX",
        "outputId": "08f05921-8f21-41aa-92cb-bd8b74e56944"
      },
      "execution_count": 76,
      "outputs": [
        {
          "output_type": "execute_result",
          "data": {
            "text/plain": [
              "<function matplotlib.pyplot.show>"
            ]
          },
          "metadata": {},
          "execution_count": 76
        },
        {
          "output_type": "display_data",
          "data": {
            "image/png": "[encoded data removed]",
            "text/plain": [
              "<Figure size 432x288 with 1 Axes>"
            ]
          },
          "metadata": {
            "needs_background": "light"
          }
        }
      ]
    },
    {
      "cell_type": "markdown",
      "source": [
        "**Flow 1**"
      ],
      "metadata": {
        "id": "xHyttbbxYNrg"
      }
    },
    {
      "cell_type": "code",
      "source": [
        "df = pd.read_csv(\"flow1.csv\",delimiter = \";\")\n",
        "df= df[df['Time (hrs)'] >= 0.2]\n",
        "df = df.iloc[::9, :]\n",
        "a = df[\"Pressure (psia)\"].tolist()\n",
        "t = df[\"Time (hrs)\"].tolist()\n",
        "interp = interpolate.interp1d(Pressure_x, psi)\n",
        "psi_converted =[]\n",
        "for i in range (len(a)):\n",
        "  new =interp(a[i])\n",
        "  psi_converted.append(new)\n",
        "psi_converted = [l.tolist() for l in psi_converted]\n",
        "df_flow1 = pd.DataFrame(np.column_stack([t, a, psi_converted]), columns =['Time (hrs)','Pressure (psia)','Pseudopressure (psia^2/cp)'])\n",
        "t = np.log10(t)\n",
        "interp1 = interpolate.interp1d(t, psi_converted)\n",
        "df_flow1"
      ],
      "metadata": {
        "colab": {
          "base_uri": "https://localhost:8080/",
          "height": 269
        },
        "id": "cFscwHE3I-tX",
        "outputId": "862c6d04-d5cc-4069-b47a-c81e72b3e705"
      },
      "execution_count": 77,
      "outputs": [
        {
          "output_type": "execute_result",
          "data": {
            "text/html": [
              "\n",
              "  <div id=\"df-f00860c0-238a-49ea-bbf5-1c2228f3af40\">\n",
              "    <div class=\"colab-df-container\">\n",
              "      <div>\n",
              "<style scoped>\n",
              "    .dataframe tbody tr th:only-of-type {\n",
              "        vertical-align: middle;\n",
              "    }\n",
              "\n",
              "    .dataframe tbody tr th {\n",
              "        vertical-align: top;\n",
              "    }\n",
              "\n",
              "    .dataframe thead th {\n",
              "        text-align: right;\n",
              "    }\n",
              "</style>\n",
              "<table border=\"1\" class=\"dataframe\">\n",
              "  <thead>\n",
              "    <tr style=\"text-align: right;\">\n",
              "      <th></th>\n",
              "      <th>Time (hrs)</th>\n",
              "      <th>Pressure (psia)</th>\n",
              "      <th>Pseudopressure (psia^2/cp)</th>\n",
              "    </tr>\n",
              "  </thead>\n",
              "  <tbody>\n",
              "    <tr>\n",
              "      <th>0</th>\n",
              "      <td>0.205402</td>\n",
              "      <td>1883.529777</td>\n",
              "      <td>3.045624e+08</td>\n",
              "    </tr>\n",
              "    <tr>\n",
              "      <th>1</th>\n",
              "      <td>0.578902</td>\n",
              "      <td>1873.147138</td>\n",
              "      <td>3.025861e+08</td>\n",
              "    </tr>\n",
              "    <tr>\n",
              "      <th>2</th>\n",
              "      <td>1.631567</td>\n",
              "      <td>1864.168122</td>\n",
              "      <td>3.008770e+08</td>\n",
              "    </tr>\n",
              "    <tr>\n",
              "      <th>3</th>\n",
              "      <td>4.598382</td>\n",
              "      <td>1855.632720</td>\n",
              "      <td>2.992523e+08</td>\n",
              "    </tr>\n",
              "    <tr>\n",
              "      <th>4</th>\n",
              "      <td>10.815387</td>\n",
              "      <td>1848.696495</td>\n",
              "      <td>2.979321e+08</td>\n",
              "    </tr>\n",
              "    <tr>\n",
              "      <th>5</th>\n",
              "      <td>17.295387</td>\n",
              "      <td>1844.907733</td>\n",
              "      <td>2.972109e+08</td>\n",
              "    </tr>\n",
              "    <tr>\n",
              "      <th>6</th>\n",
              "      <td>23.775387</td>\n",
              "      <td>1842.344006</td>\n",
              "      <td>2.967229e+08</td>\n",
              "    </tr>\n",
              "  </tbody>\n",
              "</table>\n",
              "</div>\n",
              "      <button class=\"colab-df-convert\" onclick=\"convertToInteractive('df-f00860c0-238a-49ea-bbf5-1c2228f3af40')\"\n",
              "              title=\"Convert this dataframe to an interactive table.\"\n",
              "              style=\"display:none;\">\n",
              "        \n",
              "  <svg xmlns=\"http://www.w3.org/2000/svg\" height=\"24px\"viewBox=\"0 0 24 24\"\n",
              "       width=\"24px\">\n",
              "    <path d=\"M0 0h24v24H0V0z\" fill=\"none\"/>\n",
              "    <path d=\"M18.56 5.44l.94 2.06.94-2.06 2.06-.94-2.06-.94-.94-2.06-.94 2.06-2.06.94zm-11 1L8.5 8.5l.94-2.06 2.06-.94-2.06-.94L8.5 2.5l-.94 2.06-2.06.94zm10 10l.94 2.06.94-2.06 2.06-.94-2.06-.94-.94-2.06-.94 2.06-2.06.94z\"/><path d=\"M17.41 7.96l-1.37-1.37c-.4-.4-.92-.59-1.43-.59-.52 0-1.04.2-1.43.59L10.3 9.45l-7.72 7.72c-.78.78-.78 2.05 0 2.83L4 21.41c.39.39.9.59 1.41.59.51 0 1.02-.2 1.41-.59l7.78-7.78 2.81-2.81c.8-.78.8-2.07 0-2.86zM5.41 20L4 18.59l7.72-7.72 1.47 1.35L5.41 20z\"/>\n",
              "  </svg>\n",
              "      </button>\n",
              "      \n",
              "  <style>\n",
              "    .colab-df-container {\n",
              "      display:flex;\n",
              "      flex-wrap:wrap;\n",
              "      gap: 12px;\n",
              "    }\n",
              "\n",
              "    .colab-df-convert {\n",
              "      background-color: #E8F0FE;\n",
              "      border: none;\n",
              "      border-radius: 50%;\n",
              "      cursor: pointer;\n",
              "      display: none;\n",
              "      fill: #1967D2;\n",
              "      height: 32px;\n",
              "      padding: 0 0 0 0;\n",
              "      width: 32px;\n",
              "    }\n",
              "\n",
              "    .colab-df-convert:hover {\n",
              "      background-color: #E2EBFA;\n",
              "      box-shadow: 0px 1px 2px rgba(60, 64, 67, 0.3), 0px 1px 3px 1px rgba(60, 64, 67, 0.15);\n",
              "      fill: #174EA6;\n",
              "    }\n",
              "\n",
              "    [theme=dark] .colab-df-convert {\n",
              "      background-color: #3B4455;\n",
              "      fill: #D2E3FC;\n",
              "    }\n",
              "\n",
              "    [theme=dark] .colab-df-convert:hover {\n",
              "      background-color: #434B5C;\n",
              "      box-shadow: 0px 1px 3px 1px rgba(0, 0, 0, 0.15);\n",
              "      filter: drop-shadow(0px 1px 2px rgba(0, 0, 0, 0.3));\n",
              "      fill: #FFFFFF;\n",
              "    }\n",
              "  </style>\n",
              "\n",
              "      <script>\n",
              "        const buttonEl =\n",
              "          document.querySelector('#df-f00860c0-238a-49ea-bbf5-1c2228f3af40 button.colab-df-convert');\n",
              "        buttonEl.style.display =\n",
              "          google.colab.kernel.accessAllowed ? 'block' : 'none';\n",
              "\n",
              "        async function convertToInteractive(key) {\n",
              "          const element = document.querySelector('#df-f00860c0-238a-49ea-bbf5-1c2228f3af40');\n",
              "          const dataTable =\n",
              "            await google.colab.kernel.invokeFunction('convertToInteractive',\n",
              "                                                     [key], {});\n",
              "          if (!dataTable) return;\n",
              "\n",
              "          const docLinkHtml = 'Like what you see? Visit the ' +\n",
              "            '<a target=\"_blank\" href=https://colab.research.google.com/notebooks/data_table.ipynb>data table notebook</a>'\n",
              "            + ' to learn more about interactive tables.';\n",
              "          element.innerHTML = '';\n",
              "          dataTable['output_type'] = 'display_data';\n",
              "          await google.colab.output.renderOutput(dataTable, element);\n",
              "          const docLink = document.createElement('div');\n",
              "          docLink.innerHTML = docLinkHtml;\n",
              "          element.appendChild(docLink);\n",
              "        }\n",
              "      </script>\n",
              "    </div>\n",
              "  </div>\n",
              "  "
            ],
            "text/plain": [
              "   Time (hrs)  Pressure (psia)  Pseudopressure (psia^2/cp)\n",
              "0    0.205402      1883.529777                3.045624e+08\n",
              "1    0.578902      1873.147138                3.025861e+08\n",
              "2    1.631567      1864.168122                3.008770e+08\n",
              "3    4.598382      1855.632720                2.992523e+08\n",
              "4   10.815387      1848.696495                2.979321e+08\n",
              "5   17.295387      1844.907733                2.972109e+08\n",
              "6   23.775387      1842.344006                2.967229e+08"
            ]
          },
          "metadata": {},
          "execution_count": 77
        }
      ]
    },
    {
      "cell_type": "code",
      "source": [
        "plt.plot(t, psi_converted, marker = '.', markersize = 10)\n",
        "plt.title(\"Flow 1: Pseudopressure vs log t\", size=14)\n",
        "plt.xlabel(\"log t\")\n",
        "plt.ylabel(\"Pseudopressure [psi^2/cp]\")\n",
        "plt.show()\n",
        "slope, intercept, r_value, p_value, std_err = stats.linregress(t, psi_converted)\n",
        "print(\"The slope of Pseudopressure vs log Time is \"+ str(slope) + \" psi/cycle\")"
      ],
      "metadata": {
        "colab": {
          "base_uri": "https://localhost:8080/",
          "height": 314
        },
        "id": "I5edKbtKc4rv",
        "outputId": "d8463039-2a20-4777-eb3a-aa9ec476c979"
      },
      "execution_count": 78,
      "outputs": [
        {
          "output_type": "display_data",
          "data": {
            "image/png": "[encoded data removed]",
            "text/plain": [
              "<Figure size 432x288 with 1 Axes>"
            ]
          },
          "metadata": {
            "needs_background": "light"
          }
        },
        {
          "output_type": "stream",
          "name": "stdout",
          "text": [
            "The slope of Pseudopressure vs log Time is -3749891.4111477477 psi/cycle\n"
          ]
        }
      ]
    },
    {
      "cell_type": "markdown",
      "source": [
        "**Flow 2**"
      ],
      "metadata": {
        "id": "W1imV_wGbkPO"
      }
    },
    {
      "cell_type": "code",
      "source": [
        "df2 = pd.read_csv(\"flow2.csv\",delimiter = \";\")\n",
        "df2= df2[df2['Time (hrs)'] >= 0.2]\n",
        "df2 = df2.iloc[::9, :]\n",
        "a2 = df2[\"Pressure (psia)\"].tolist()\n",
        "t2 = df2[\"Time (hrs)\"].tolist()\n",
        "psi_converted2 =[]\n",
        "for i in range (len(a2)):\n",
        "  new2 =interp(a2[i])\n",
        "  psi_converted2.append(new2)\n",
        "psi_converted2 = [l.tolist() for l in psi_converted2]\n",
        "df_flow2 = pd.DataFrame(np.column_stack([t2, a2, psi_converted2]), columns =['Time (hrs)','Pressure (psia)','Pseudopressure (psia^2/cp)'])\n",
        "t2 = np.log10(t2)\n",
        "interp2 = interpolate.interp1d(t2, psi_converted2)\n",
        "df_flow2"
      ],
      "metadata": {
        "colab": {
          "base_uri": "https://localhost:8080/",
          "height": 269
        },
        "id": "xhjF9IglVpeS",
        "outputId": "42c25b0d-22db-4b7f-a0c5-1c039a6fcac9"
      },
      "execution_count": 79,
      "outputs": [
        {
          "output_type": "execute_result",
          "data": {
            "text/html": [
              "\n",
              "  <div id=\"df-5ced1de9-0ebd-46a3-bf2d-579e4a95c712\">\n",
              "    <div class=\"colab-df-container\">\n",
              "      <div>\n",
              "<style scoped>\n",
              "    .dataframe tbody tr th:only-of-type {\n",
              "        vertical-align: middle;\n",
              "    }\n",
              "\n",
              "    .dataframe tbody tr th {\n",
              "        vertical-align: top;\n",
              "    }\n",
              "\n",
              "    .dataframe thead th {\n",
              "        text-align: right;\n",
              "    }\n",
              "</style>\n",
              "<table border=\"1\" class=\"dataframe\">\n",
              "  <thead>\n",
              "    <tr style=\"text-align: right;\">\n",
              "      <th></th>\n",
              "      <th>Time (hrs)</th>\n",
              "      <th>Pressure (psia)</th>\n",
              "      <th>Pseudopressure (psia^2/cp)</th>\n",
              "    </tr>\n",
              "  </thead>\n",
              "  <tbody>\n",
              "    <tr>\n",
              "      <th>0</th>\n",
              "      <td>0.205402</td>\n",
              "      <td>1749.465929</td>\n",
              "      <td>2.791199e+08</td>\n",
              "    </tr>\n",
              "    <tr>\n",
              "      <th>1</th>\n",
              "      <td>0.578902</td>\n",
              "      <td>1728.603862</td>\n",
              "      <td>2.751802e+08</td>\n",
              "    </tr>\n",
              "    <tr>\n",
              "      <th>2</th>\n",
              "      <td>1.631567</td>\n",
              "      <td>1710.970592</td>\n",
              "      <td>2.718502e+08</td>\n",
              "    </tr>\n",
              "    <tr>\n",
              "      <th>3</th>\n",
              "      <td>4.598382</td>\n",
              "      <td>1694.326950</td>\n",
              "      <td>2.687072e+08</td>\n",
              "    </tr>\n",
              "    <tr>\n",
              "      <th>4</th>\n",
              "      <td>10.815387</td>\n",
              "      <td>1680.964375</td>\n",
              "      <td>2.661837e+08</td>\n",
              "    </tr>\n",
              "    <tr>\n",
              "      <th>5</th>\n",
              "      <td>17.295387</td>\n",
              "      <td>1673.752969</td>\n",
              "      <td>2.648219e+08</td>\n",
              "    </tr>\n",
              "    <tr>\n",
              "      <th>6</th>\n",
              "      <td>23.775387</td>\n",
              "      <td>1668.911812</td>\n",
              "      <td>2.639077e+08</td>\n",
              "    </tr>\n",
              "  </tbody>\n",
              "</table>\n",
              "</div>\n",
              "      <button class=\"colab-df-convert\" onclick=\"convertToInteractive('df-5ced1de9-0ebd-46a3-bf2d-579e4a95c712')\"\n",
              "              title=\"Convert this dataframe to an interactive table.\"\n",
              "              style=\"display:none;\">\n",
              "        \n",
              "  <svg xmlns=\"http://www.w3.org/2000/svg\" height=\"24px\"viewBox=\"0 0 24 24\"\n",
              "       width=\"24px\">\n",
              "    <path d=\"M0 0h24v24H0V0z\" fill=\"none\"/>\n",
              "    <path d=\"M18.56 5.44l.94 2.06.94-2.06 2.06-.94-2.06-.94-.94-2.06-.94 2.06-2.06.94zm-11 1L8.5 8.5l.94-2.06 2.06-.94-2.06-.94L8.5 2.5l-.94 2.06-2.06.94zm10 10l.94 2.06.94-2.06 2.06-.94-2.06-.94-.94-2.06-.94 2.06-2.06.94z\"/><path d=\"M17.41 7.96l-1.37-1.37c-.4-.4-.92-.59-1.43-.59-.52 0-1.04.2-1.43.59L10.3 9.45l-7.72 7.72c-.78.78-.78 2.05 0 2.83L4 21.41c.39.39.9.59 1.41.59.51 0 1.02-.2 1.41-.59l7.78-7.78 2.81-2.81c.8-.78.8-2.07 0-2.86zM5.41 20L4 18.59l7.72-7.72 1.47 1.35L5.41 20z\"/>\n",
              "  </svg>\n",
              "      </button>\n",
              "      \n",
              "  <style>\n",
              "    .colab-df-container {\n",
              "      display:flex;\n",
              "      flex-wrap:wrap;\n",
              "      gap: 12px;\n",
              "    }\n",
              "\n",
              "    .colab-df-convert {\n",
              "      background-color: #E8F0FE;\n",
              "      border: none;\n",
              "      border-radius: 50%;\n",
              "      cursor: pointer;\n",
              "      display: none;\n",
              "      fill: #1967D2;\n",
              "      height: 32px;\n",
              "      padding: 0 0 0 0;\n",
              "      width: 32px;\n",
              "    }\n",
              "\n",
              "    .colab-df-convert:hover {\n",
              "      background-color: #E2EBFA;\n",
              "      box-shadow: 0px 1px 2px rgba(60, 64, 67, 0.3), 0px 1px 3px 1px rgba(60, 64, 67, 0.15);\n",
              "      fill: #174EA6;\n",
              "    }\n",
              "\n",
              "    [theme=dark] .colab-df-convert {\n",
              "      background-color: #3B4455;\n",
              "      fill: #D2E3FC;\n",
              "    }\n",
              "\n",
              "    [theme=dark] .colab-df-convert:hover {\n",
              "      background-color: #434B5C;\n",
              "      box-shadow: 0px 1px 3px 1px rgba(0, 0, 0, 0.15);\n",
              "      filter: drop-shadow(0px 1px 2px rgba(0, 0, 0, 0.3));\n",
              "      fill: #FFFFFF;\n",
              "    }\n",
              "  </style>\n",
              "\n",
              "      <script>\n",
              "        const buttonEl =\n",
              "          document.querySelector('#df-5ced1de9-0ebd-46a3-bf2d-579e4a95c712 button.colab-df-convert');\n",
              "        buttonEl.style.display =\n",
              "          google.colab.kernel.accessAllowed ? 'block' : 'none';\n",
              "\n",
              "        async function convertToInteractive(key) {\n",
              "          const element = document.querySelector('#df-5ced1de9-0ebd-46a3-bf2d-579e4a95c712');\n",
              "          const dataTable =\n",
              "            await google.colab.kernel.invokeFunction('convertToInteractive',\n",
              "                                                     [key], {});\n",
              "          if (!dataTable) return;\n",
              "\n",
              "          const docLinkHtml = 'Like what you see? Visit the ' +\n",
              "            '<a target=\"_blank\" href=https://colab.research.google.com/notebooks/data_table.ipynb>data table notebook</a>'\n",
              "            + ' to learn more about interactive tables.';\n",
              "          element.innerHTML = '';\n",
              "          dataTable['output_type'] = 'display_data';\n",
              "          await google.colab.output.renderOutput(dataTable, element);\n",
              "          const docLink = document.createElement('div');\n",
              "          docLink.innerHTML = docLinkHtml;\n",
              "          element.appendChild(docLink);\n",
              "        }\n",
              "      </script>\n",
              "    </div>\n",
              "  </div>\n",
              "  "
            ],
            "text/plain": [
              "   Time (hrs)  Pressure (psia)  Pseudopressure (psia^2/cp)\n",
              "0    0.205402      1749.465929                2.791199e+08\n",
              "1    0.578902      1728.603862                2.751802e+08\n",
              "2    1.631567      1710.970592                2.718502e+08\n",
              "3    4.598382      1694.326950                2.687072e+08\n",
              "4   10.815387      1680.964375                2.661837e+08\n",
              "5   17.295387      1673.752969                2.648219e+08\n",
              "6   23.775387      1668.911812                2.639077e+08"
            ]
          },
          "metadata": {},
          "execution_count": 79
        }
      ]
    },
    {
      "cell_type": "code",
      "source": [
        "plt.plot(t2, psi_converted2, marker = '.', markersize = 10)\n",
        "plt.title(\"Flow 2: Pseudopressure vs log t\", size=14)\n",
        "plt.xlabel(\"log t\")\n",
        "plt.ylabel(\"Pseudopressure [psi^2/cp]\")\n",
        "plt.show()\n",
        "slope2, intercept, r_value, p_value, std_err = stats.linregress(t2, psi_converted2)\n",
        "print(\"The slope of Pseudopressure vs log Time is \"+ str(slope2) + \" psi/cycle\")"
      ],
      "metadata": {
        "colab": {
          "base_uri": "https://localhost:8080/",
          "height": 314
        },
        "id": "2ODKqxq1dOQK",
        "outputId": "09afdc70-9b0f-4c74-b23e-13ba916dd539"
      },
      "execution_count": 80,
      "outputs": [
        {
          "output_type": "display_data",
          "data": {
            "image/png": "[encoded data removed]",
            "text/plain": [
              "<Figure size 432x288 with 1 Axes>"
            ]
          },
          "metadata": {
            "needs_background": "light"
          }
        },
        {
          "output_type": "stream",
          "name": "stdout",
          "text": [
            "The slope of Pseudopressure vs log Time is -7266158.032193333 psi/cycle\n"
          ]
        }
      ]
    },
    {
      "cell_type": "markdown",
      "source": [
        "**Permeability, Skin, and Turbulence Factor Calculation**"
      ],
      "metadata": {
        "id": "JLF7XmBcbcTa"
      }
    },
    {
      "cell_type": "code",
      "source": [
        "q1 = 1000\n",
        "q2 = 2000\n",
        "h = 15\n",
        "por = 0.2\n",
        "rw = 0.3\n",
        "Pi = 2000\n",
        "k1 = 1637*q1*(T+460)/(-slope*h)\n",
        "k2 = 1637*q2*(T+460)/(-slope2*h)\n",
        "Cti = 1/P; vis_i = vis_g(T, MWa, (2.7*MWa/28.97*Pi/(ZBB(Pi, T)*(T+459.67)))/62.428)\n",
        "S_1 = 1.151*((interp(Pi)-interp1(0))/-slope - math.log(k1/(por*Cti*vis_i*rw**2),10)+3.23)\n",
        "S_2 = 1.151*((interp(Pi)-interp2(0))/-slope2 - math.log(k2/(por*Cti*vis_i*rw**2),10)+3.23)"
      ],
      "metadata": {
        "id": "SeFhKaxKbb_3"
      },
      "execution_count": 81,
      "outputs": []
    },
    {
      "cell_type": "code",
      "source": [
        "A = np.array([[1, q1], [1, q2]])\n",
        "b = np.array([S_1, S_2])\n",
        "x = np.linalg.solve(A, b)\n",
        "print(\"Skin Factor = {0:.4g} \".format(x[0]))\n",
        "print(\"Turbulence Factor = {0:.4e} /MSCFD\".format(x[1]))"
      ],
      "metadata": {
        "colab": {
          "base_uri": "https://localhost:8080/"
        },
        "id": "ecmA_PtYBvgc",
        "outputId": "4917602d-308c-4cca-b4e5-b9ef3918550c"
      },
      "execution_count": 82,
      "outputs": [
        {
          "output_type": "stream",
          "name": "stdout",
          "text": [
            "Skin Factor = 1.729 \n",
            "Turbulence Factor = 7.4044e-04 /MSCFD\n"
          ]
        }
      ]
    },
    {
      "cell_type": "markdown",
      "source": [
        "# Probablistic Method to Determine Gas Reserve"
      ],
      "metadata": {
        "id": "nMJ-OCTogpV5"
      }
    },
    {
      "cell_type": "code",
      "source": [
        "import random\n",
        "#Input the properties distribution\n",
        "n = 10000\n",
        "Area = np.random.uniform(300, 600, n)\n",
        "Thickness = np.random.uniform(10, 15, n)\n",
        "NTG = 1\n",
        "POR = np.random.triangular(0.02, 0.15, 0.2, n)\n",
        "SW = np.random.triangular(0.2, 0.3, 0.5, n)\n",
        "BG= np.random.uniform(0.95*Bg_corr, 1.05*Bg_corr, n)\n",
        "Feather = 1\n",
        "OGIP = Area*Thickness*NTG*POR*(1-SW)/BG*43560*Feather/1000000000\n",
        "classes=round(3.3*math.log(n,10),)\n",
        "max(OGIP)"
      ],
      "metadata": {
        "colab": {
          "base_uri": "https://localhost:8080/"
        },
        "id": "-115ZQBYgzV6",
        "outputId": "8628898e-9b04-4b32-a27e-865f1370918e"
      },
      "execution_count": null,
      "outputs": [
        {
          "output_type": "execute_result",
          "data": {
            "text/plain": [
              "10.072057452886792"
            ]
          },
          "metadata": {},
          "execution_count": 36
        }
      ]
    },
    {
      "cell_type": "code",
      "source": [
        ""
      ],
      "metadata": {
        "id": "IPJ9bFYRc0U1"
      },
      "execution_count": null,
      "outputs": []
    },
    {
      "cell_type": "code",
      "source": [
        "S = [[] for _ in range(classes)]\n",
        "R = [[] for _ in range(classes)]\n",
        "upper_limit = max(OGIP)\n",
        "for i in range (len(OGIP)):\n",
        "  if (0<OGIP[i]<(upper_limit/classes)):\n",
        "    S[0].append(OGIP[i])\n",
        "  elif ((upper_limit/classes)<OGIP[i]<(upper_limit/classes*2)):\n",
        "    S[1].append(OGIP[i])\n",
        "  elif((upper_limit/classes*2)<OGIP[i]<(upper_limit/classes*3)):\n",
        "    S[2].append(OGIP[i])\n",
        "  elif((upper_limit/classes*3)<OGIP[i]<(upper_limit/classes*4)):\n",
        "    S[3].append(OGIP[i])\n",
        "  elif ((upper_limit/classes*4)<OGIP[i]<(upper_limit/classes*5)):\n",
        "    S[4].append(OGIP[i])\n",
        "  elif((upper_limit/classes*5)<OGIP[i]<(upper_limit/classes*6)):\n",
        "    S[5].append(OGIP[i])\n",
        "  elif((upper_limit/classes*6)<OGIP[i]<(upper_limit/classes*7)):\n",
        "    S[6].append(OGIP[i])\n",
        "  elif ((upper_limit/classes*7)<OGIP[i]<(upper_limit/classes*8)):\n",
        "    S[7].append(OGIP[i])\n",
        "  elif((upper_limit/classes*8)<OGIP[i]<(upper_limit/classes*9)):\n",
        "    S[8].append(OGIP[i])\n",
        "  elif((upper_limit/classes*9)<OGIP[i]<(upper_limit/classes*10)):\n",
        "    S[9].append(OGIP[i])\n",
        "  elif ((upper_limit/classes*10)<OGIP[i]<(upper_limit/classes*11)):\n",
        "    S[10].append(OGIP[i])\n",
        "  elif((upper_limit/classes*11)<OGIP[i]<(upper_limit/classes*12)):\n",
        "    S[11].append(OGIP[i])\n",
        "  elif((upper_limit/classes*12)<OGIP[i]<(upper_limit)):\n",
        "    S[12].append(OGIP[i]) \n",
        "\n",
        "interval = (upper_limit/classes)\n",
        "bins = []\n",
        "for i in range (classes):\n",
        "  R[i] = str(round(i*interval,2)) + \" - \" + str(round(i*interval+interval,2))\n",
        "  bins.append(i*interval)"
      ],
      "metadata": {
        "id": "6Bk9tGu2nsmv"
      },
      "execution_count": null,
      "outputs": []
    },
    {
      "cell_type": "code",
      "source": [
        "f = []\n",
        "w = []\n",
        "cum_w = []\n",
        "for i in range (classes):\n",
        "  f.append(len(S[i]))\n",
        "  w.append(len(S[i])/n)\n",
        "  if i == 0:\n",
        "    cum_w.append(w[i])\n",
        "  else:\n",
        "    cum_w.append(round(w[i]+cum_w[i-1],3))\n",
        "# print(f)\n",
        "# print(w)\n",
        "# print(cum_w)"
      ],
      "metadata": {
        "id": "q2tGqV-44e9V"
      },
      "execution_count": null,
      "outputs": []
    },
    {
      "cell_type": "markdown",
      "source": [
        "# Statistical Result"
      ],
      "metadata": {
        "id": "g2VlaLH2ZZF8"
      }
    },
    {
      "cell_type": "code",
      "source": [
        "df = pd.DataFrame(np.column_stack([R,f,w,cum_w]), columns =['Gas Reserve (BSCF)','Frequency','w','W(x<xi)'])\n",
        "pd.set_option('display.colheader_justify', 'center')\n",
        "df"
      ],
      "metadata": {
        "colab": {
          "base_uri": "https://localhost:8080/",
          "height": 457
        },
        "id": "s0OETZStPyKq",
        "outputId": "c2a34ea9-d234-498e-bb7d-618bdf59f9b0"
      },
      "execution_count": null,
      "outputs": [
        {
          "output_type": "execute_result",
          "data": {
            "text/html": [
              "\n",
              "  <div id=\"df-aa1a96ca-d0c1-4230-b910-366dca164de1\">\n",
              "    <div class=\"colab-df-container\">\n",
              "      <div>\n",
              "<style scoped>\n",
              "    .dataframe tbody tr th:only-of-type {\n",
              "        vertical-align: middle;\n",
              "    }\n",
              "\n",
              "    .dataframe tbody tr th {\n",
              "        vertical-align: top;\n",
              "    }\n",
              "\n",
              "    .dataframe thead th {\n",
              "        text-align: right;\n",
              "    }\n",
              "</style>\n",
              "<table border=\"1\" class=\"dataframe\">\n",
              "  <thead>\n",
              "    <tr style=\"text-align: center;\">\n",
              "      <th></th>\n",
              "      <th>Gas Reserve (BSCF)</th>\n",
              "      <th>Frequency</th>\n",
              "      <th>w</th>\n",
              "      <th>W(x&lt;xi)</th>\n",
              "    </tr>\n",
              "  </thead>\n",
              "  <tbody>\n",
              "    <tr>\n",
              "      <th>0</th>\n",
              "      <td>0.0 - 0.77</td>\n",
              "      <td>29</td>\n",
              "      <td>0.0029</td>\n",
              "      <td>0.0029</td>\n",
              "    </tr>\n",
              "    <tr>\n",
              "      <th>1</th>\n",
              "      <td>0.77 - 1.55</td>\n",
              "      <td>465</td>\n",
              "      <td>0.0465</td>\n",
              "      <td>0.049</td>\n",
              "    </tr>\n",
              "    <tr>\n",
              "      <th>2</th>\n",
              "      <td>1.55 - 2.32</td>\n",
              "      <td>1080</td>\n",
              "      <td>0.108</td>\n",
              "      <td>0.157</td>\n",
              "    </tr>\n",
              "    <tr>\n",
              "      <th>3</th>\n",
              "      <td>2.32 - 3.1</td>\n",
              "      <td>1504</td>\n",
              "      <td>0.1504</td>\n",
              "      <td>0.307</td>\n",
              "    </tr>\n",
              "    <tr>\n",
              "      <th>4</th>\n",
              "      <td>3.1 - 3.87</td>\n",
              "      <td>1856</td>\n",
              "      <td>0.1856</td>\n",
              "      <td>0.493</td>\n",
              "    </tr>\n",
              "    <tr>\n",
              "      <th>5</th>\n",
              "      <td>3.87 - 4.65</td>\n",
              "      <td>1807</td>\n",
              "      <td>0.1807</td>\n",
              "      <td>0.674</td>\n",
              "    </tr>\n",
              "    <tr>\n",
              "      <th>6</th>\n",
              "      <td>4.65 - 5.42</td>\n",
              "      <td>1286</td>\n",
              "      <td>0.1286</td>\n",
              "      <td>0.803</td>\n",
              "    </tr>\n",
              "    <tr>\n",
              "      <th>7</th>\n",
              "      <td>5.42 - 6.2</td>\n",
              "      <td>923</td>\n",
              "      <td>0.0923</td>\n",
              "      <td>0.895</td>\n",
              "    </tr>\n",
              "    <tr>\n",
              "      <th>8</th>\n",
              "      <td>6.2 - 6.97</td>\n",
              "      <td>556</td>\n",
              "      <td>0.0556</td>\n",
              "      <td>0.951</td>\n",
              "    </tr>\n",
              "    <tr>\n",
              "      <th>9</th>\n",
              "      <td>6.97 - 7.75</td>\n",
              "      <td>288</td>\n",
              "      <td>0.0288</td>\n",
              "      <td>0.98</td>\n",
              "    </tr>\n",
              "    <tr>\n",
              "      <th>10</th>\n",
              "      <td>7.75 - 8.52</td>\n",
              "      <td>132</td>\n",
              "      <td>0.0132</td>\n",
              "      <td>0.993</td>\n",
              "    </tr>\n",
              "    <tr>\n",
              "      <th>11</th>\n",
              "      <td>8.52 - 9.3</td>\n",
              "      <td>55</td>\n",
              "      <td>0.0055</td>\n",
              "      <td>0.998</td>\n",
              "    </tr>\n",
              "    <tr>\n",
              "      <th>12</th>\n",
              "      <td>9.3 - 10.07</td>\n",
              "      <td>18</td>\n",
              "      <td>0.0018</td>\n",
              "      <td>1.0</td>\n",
              "    </tr>\n",
              "  </tbody>\n",
              "</table>\n",
              "</div>\n",
              "      <button class=\"colab-df-convert\" onclick=\"convertToInteractive('df-aa1a96ca-d0c1-4230-b910-366dca164de1')\"\n",
              "              title=\"Convert this dataframe to an interactive table.\"\n",
              "              style=\"display:none;\">\n",
              "        \n",
              "  <svg xmlns=\"http://www.w3.org/2000/svg\" height=\"24px\"viewBox=\"0 0 24 24\"\n",
              "       width=\"24px\">\n",
              "    <path d=\"M0 0h24v24H0V0z\" fill=\"none\"/>\n",
              "    <path d=\"M18.56 5.44l.94 2.06.94-2.06 2.06-.94-2.06-.94-.94-2.06-.94 2.06-2.06.94zm-11 1L8.5 8.5l.94-2.06 2.06-.94-2.06-.94L8.5 2.5l-.94 2.06-2.06.94zm10 10l.94 2.06.94-2.06 2.06-.94-2.06-.94-.94-2.06-.94 2.06-2.06.94z\"/><path d=\"M17.41 7.96l-1.37-1.37c-.4-.4-.92-.59-1.43-.59-.52 0-1.04.2-1.43.59L10.3 9.45l-7.72 7.72c-.78.78-.78 2.05 0 2.83L4 21.41c.39.39.9.59 1.41.59.51 0 1.02-.2 1.41-.59l7.78-7.78 2.81-2.81c.8-.78.8-2.07 0-2.86zM5.41 20L4 18.59l7.72-7.72 1.47 1.35L5.41 20z\"/>\n",
              "  </svg>\n",
              "      </button>\n",
              "      \n",
              "  <style>\n",
              "    .colab-df-container {\n",
              "      display:flex;\n",
              "      flex-wrap:wrap;\n",
              "      gap: 12px;\n",
              "    }\n",
              "\n",
              "    .colab-df-convert {\n",
              "      background-color: #E8F0FE;\n",
              "      border: none;\n",
              "      border-radius: 50%;\n",
              "      cursor: pointer;\n",
              "      display: none;\n",
              "      fill: #1967D2;\n",
              "      height: 32px;\n",
              "      padding: 0 0 0 0;\n",
              "      width: 32px;\n",
              "    }\n",
              "\n",
              "    .colab-df-convert:hover {\n",
              "      background-color: #E2EBFA;\n",
              "      box-shadow: 0px 1px 2px rgba(60, 64, 67, 0.3), 0px 1px 3px 1px rgba(60, 64, 67, 0.15);\n",
              "      fill: #174EA6;\n",
              "    }\n",
              "\n",
              "    [theme=dark] .colab-df-convert {\n",
              "      background-color: #3B4455;\n",
              "      fill: #D2E3FC;\n",
              "    }\n",
              "\n",
              "    [theme=dark] .colab-df-convert:hover {\n",
              "      background-color: #434B5C;\n",
              "      box-shadow: 0px 1px 3px 1px rgba(0, 0, 0, 0.15);\n",
              "      filter: drop-shadow(0px 1px 2px rgba(0, 0, 0, 0.3));\n",
              "      fill: #FFFFFF;\n",
              "    }\n",
              "  </style>\n",
              "\n",
              "      <script>\n",
              "        const buttonEl =\n",
              "          document.querySelector('#df-aa1a96ca-d0c1-4230-b910-366dca164de1 button.colab-df-convert');\n",
              "        buttonEl.style.display =\n",
              "          google.colab.kernel.accessAllowed ? 'block' : 'none';\n",
              "\n",
              "        async function convertToInteractive(key) {\n",
              "          const element = document.querySelector('#df-aa1a96ca-d0c1-4230-b910-366dca164de1');\n",
              "          const dataTable =\n",
              "            await google.colab.kernel.invokeFunction('convertToInteractive',\n",
              "                                                     [key], {});\n",
              "          if (!dataTable) return;\n",
              "\n",
              "          const docLinkHtml = 'Like what you see? Visit the ' +\n",
              "            '<a target=\"_blank\" href=https://colab.research.google.com/notebooks/data_table.ipynb>data table notebook</a>'\n",
              "            + ' to learn more about interactive tables.';\n",
              "          element.innerHTML = '';\n",
              "          dataTable['output_type'] = 'display_data';\n",
              "          await google.colab.output.renderOutput(dataTable, element);\n",
              "          const docLink = document.createElement('div');\n",
              "          docLink.innerHTML = docLinkHtml;\n",
              "          element.appendChild(docLink);\n",
              "        }\n",
              "      </script>\n",
              "    </div>\n",
              "  </div>\n",
              "  "
            ],
            "text/plain": [
              "   Gas Reserve (BSCF) Frequency    w    W(x<xi)\n",
              "0       0.0 - 0.77         29    0.0029  0.0029\n",
              "1      0.77 - 1.55        465    0.0465   0.049\n",
              "2      1.55 - 2.32       1080     0.108   0.157\n",
              "3       2.32 - 3.1       1504    0.1504   0.307\n",
              "4       3.1 - 3.87       1856    0.1856   0.493\n",
              "5      3.87 - 4.65       1807    0.1807   0.674\n",
              "6      4.65 - 5.42       1286    0.1286   0.803\n",
              "7       5.42 - 6.2        923    0.0923   0.895\n",
              "8       6.2 - 6.97        556    0.0556   0.951\n",
              "9      6.97 - 7.75        288    0.0288    0.98\n",
              "10     7.75 - 8.52        132    0.0132   0.993\n",
              "11      8.52 - 9.3         55    0.0055   0.998\n",
              "12     9.3 - 10.07         18    0.0018     1.0"
            ]
          },
          "metadata": {},
          "execution_count": 39
        }
      ]
    },
    {
      "cell_type": "code",
      "source": [
        "mid_val = []\n",
        "for i in range (classes):\n",
        "  x_new = round((i*interval)+(i*interval+interval),2)/2\n",
        "  mid_val.append(x_new)\n",
        "mid_val\n",
        "f = interpolate.interp1d(cum_w, mid_val)\n",
        "P90 = f(0.1)\n",
        "P50 = f(0.5)\n",
        "P10 = f(0.9)\n",
        "print(\"P90: \"+ str(P90) + \" BSCF\")\n",
        "print(\"P50: \"+ str(P50)+ \" BSCF\")\n",
        "print(\"P10: \"+ str(P10) + \" BSCF\")"
      ],
      "metadata": {
        "colab": {
          "base_uri": "https://localhost:8080/"
        },
        "id": "byjvzphr7gg_",
        "outputId": "6df0d154-200d-4bae-b359-15696b02e52c"
      },
      "execution_count": null,
      "outputs": [
        {
          "output_type": "stream",
          "name": "stdout",
          "text": [
            "P90:1.5259722222222223 BSCF\n",
            "P50:3.5149723756906077 BSCF\n",
            "P10:5.879196428571428 BSCF\n"
          ]
        }
      ]
    },
    {
      "cell_type": "code",
      "source": [
        "from matplotlib import colors\n",
        "from matplotlib.ticker import PercentFormatter\n",
        "fig, ax = plt.subplots(figsize =(8, 8))\n",
        "# Remove axes splines\n",
        "for s in ['top', 'bottom', 'left', 'right']:\n",
        "    ax.spines[s].set_visible(False)\n",
        "  \n",
        "# Add padding between axes and labels\n",
        "ax.xaxis.set_tick_params(pad = 5)\n",
        "ax.yaxis.set_tick_params(pad = 10)\n",
        " \n",
        "# Add x, y gridlines\n",
        "ax.grid(b = True, color ='grey',\n",
        "        linestyle ='-.', linewidth = 0.5,\n",
        "        alpha = 0.6)\n",
        "N, bins, patches = ax.hist(OGIP, bins = bins)\n",
        "# Setting color\n",
        "fracs = ((N**(1 / 5)) / N.max())\n",
        "norm = colors.Normalize(fracs.min(), fracs.max())\n",
        " \n",
        "for thisfrac, thispatch in zip(fracs, patches):\n",
        "    color = plt.cm.viridis(norm(thisfrac))\n",
        "    thispatch.set_facecolor(color)\n",
        "\n",
        "ax2 = ax.twinx()\n",
        "# Remove x, y ticks\n",
        "ax.xaxis.set_ticks_position('none')\n",
        "ax.yaxis.set_ticks_position('none')\n",
        "ax2.plot(mid_val, cum_w, color='green',linewidth=3)\n",
        "ax2.xaxis.set_ticks_position('none')\n",
        "ax2.yaxis.set_ticks_position('none')\n",
        "for s in ['top', 'bottom', 'left', 'right']:\n",
        "    ax2.spines[s].set_visible(False)\n",
        "# Show plot\n",
        "# ax.margins(y=0.1)\n",
        "ax2.margins(y=0.5)\n",
        "# mpl_axes_aligner.align.yaxes(ax, 0, ax2, 0, 0.01)\n",
        "ax.set_ylim([0, 2001])\n",
        "ax2.set_ylim([0, 1.01])\n",
        "plt.xlabel(\"Pressure [psi]\")\n",
        "plt.ylabel(\"Gas Formation Volume Factor [cu-ft/scf]\")\n",
        "ax.set_xlabel('Gas Reserve (BSCF)')\n",
        "ax.set_ylabel('Frequency')\n",
        "ax2.set_ylabel('Cumulative Frequency (Fraction)')\n",
        "plt.show()"
      ],
      "metadata": {
        "colab": {
          "base_uri": "https://localhost:8080/",
          "height": 502
        },
        "id": "TOI5Ou-ebhGh",
        "outputId": "fc4ee5f8-a1c7-46c2-c30d-2fe40c965120"
      },
      "execution_count": null,
      "outputs": [
        {
          "output_type": "display_data",
          "data": {
            "image/png": "[encoded data removed]",
            "text/plain": [
              "<Figure size 576x576 with 2 Axes>"
            ]
          },
          "metadata": {
            "needs_background": "light"
          }
        }
      ]
    }
  ]
}