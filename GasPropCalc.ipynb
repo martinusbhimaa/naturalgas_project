{
  "nbformat": 4,
  "nbformat_minor": 0,
  "metadata": {
    "colab": {
      "name": "gasProp.ipynb",
      "provenance": [],
      "collapsed_sections": []
    },
    "kernelspec": {
      "name": "python3",
      "display_name": "Python 3"
    },
    "language_info": {
      "name": "python"
    }
  },
  "cells": [
    {
      "cell_type": "code",
      "execution_count": 1,
      "metadata": {
        "id": "KDavjimnKq8b"
      },
      "outputs": [],
      "source": [
        "import math\n",
        "import numpy as np\n",
        "import pandas as pd\n",
        "from sympy import var, solveset, S\n",
        "from sympy import *\n",
        "from sympy import Symbol\n",
        "from matplotlib import pyplot as plt"
      ]
    },
    {
      "cell_type": "code",
      "source": [
        "#Input Database\n",
        "\n",
        "N = 7\n",
        "Pc = np.array([673.3, 709, 617.4, 550.4, 487, 439.6, 260]) #in Psi\n",
        "Tc = np.array([342.67, 549.67, 665.77, 765.27, 845.28, 913.392, 1116]) #in Rankine\n",
        "w = np.array([0.011, 0.099, 0.153, 0.199, 0.251, 0.3, 0.65])\n",
        "MW = np.array([16.04, 30.07, 44.1, 58.12, 72.15, 86.18, 210])\n",
        "y = np.array([0.74,0.05,0.04,0.04,0.03,0.02,0.08])\n",
        "#Input PT Condition\n",
        "R = 10.731577089016\n",
        "P = 3000\n",
        "T = 180 "
      ],
      "metadata": {
        "id": "pqPm9PxfKt3S"
      },
      "execution_count": 2,
      "outputs": []
    },
    {
      "cell_type": "code",
      "source": [
        "def ZBB(P,T):\n",
        "  Pc = np.array([673.3, 709, 617.4, 550.4, 487, 439.6, 260]) #in Psi\n",
        "  Tc = np.array([342.67, 549.67, 665.77, 765.27, 845.28, 913.392, 1116]) #in Rankine\n",
        "  y = np.array([0.74,0.05,0.04,0.04,0.03,0.02,0.08])\n",
        "  Ppc = 0\n",
        "  Tpc = 0\n",
        "  for i in range (N):\n",
        "    Ppc += Pc[i]*y[i]\n",
        "    Tpc += Tc[i]*y[i]\n",
        "  Pr = P/Ppc\n",
        "  Tr = (T+460)/Tpc\n",
        "  A = 1.39*(Tr-0.92)**0.5-0.36*Tr-0.101\n",
        "  A1 = (1-(1.39*(Tr-0.92)**0.5-0.36*Tr-0.101))/math.exp((0.62-0.23*Tr)*Pr+(0.066/(Tr-0.86)-0.037)*Pr**2+0.32/10**(9*(Tr-1))*Pr**6)\n",
        "  A2 = (0.132-0.32*math.log(Tr,10))*Pr**(10**(0.3106-0.49*Tr+0.1824*Tr**2))\n",
        "  return(A+A1+A2)"
      ],
      "metadata": {
        "id": "iSNK8zdREoPn"
      },
      "execution_count": 3,
      "outputs": []
    },
    {
      "cell_type": "code",
      "source": [
        "A =[]\n",
        "for i in range (N):\n",
        "  if w[i] <= 0.49:\n",
        "    m = 0.37464+1.5422*w[i]-0.26992*w[i]**2\n",
        "  elif w[i] > 0.49:\n",
        "    m = 0.379642+1.48503*w[i]-0.164423*w[i]**2+0.016666*w[i]**3\n",
        "  # a = 0.45724*R*R*Tc[i]*Tc[i]/Pc[i]*(1+m*(1-math.sqrt((T+459.67)/Tc[i])))**2/(R**2*(T+459.67)**2)*P\n",
        "  a = (1+m*(1-math.sqrt((T+459.67)/Tc[i])))**2\n",
        "  Ai = 0.45724*(P/Pc[i])/(((T+459.67)/Tc[i])**2)*a\n",
        "  A.append(Ai)\n",
        "print(A)"
      ],
      "metadata": {
        "colab": {
          "base_uri": "https://localhost:8080/"
        },
        "id": "PG8KQvEWk_fY",
        "outputId": "172bc73d-76fe-48c0-81d6-8da097acc83f"
      },
      "execution_count": 4,
      "outputs": [
        {
          "output_type": "stream",
          "name": "stdout",
          "text": [
            "[0.4289707995844514, 1.3129653197262257, 2.4647034318508565, 3.9891409557289816, 5.917539910543638, 8.161942321761563, 27.597494865944444]\n"
          ]
        }
      ]
    },
    {
      "cell_type": "code",
      "source": [
        "B = []\n",
        "for i in range (N):\n",
        "  b = 0.0778*(P/Pc[i])/((T+459.67)/Tc[i])\n",
        "  B.append(b)\n",
        "# print(B)"
      ],
      "metadata": {
        "id": "dPDFbl_z9Cpx"
      },
      "execution_count": 5,
      "outputs": []
    },
    {
      "cell_type": "code",
      "source": [
        "sigma_A = 0\n",
        "sigma_B = 0\n",
        "for i in range (N):\n",
        "  for j in range (N):\n",
        "    sigma_A += y[i]*y[j]*((A[i]*A[j])**0.5)\n",
        "  sigma_B += y[i]*B[i]\n",
        "print(sigma_A)\n",
        "print(sigma_B)"
      ],
      "metadata": {
        "colab": {
          "base_uri": "https://localhost:8080/"
        },
        "id": "AZsGN6HC4Hcl",
        "outputId": "93e5c93c-5019-43a1-8887-e9976c1a0b9a"
      },
      "execution_count": 6,
      "outputs": [
        {
          "output_type": "stream",
          "name": "stdout",
          "text": [
            "1.5253072890793093\n",
            "0.3470479269371258\n"
          ]
        }
      ]
    },
    {
      "cell_type": "code",
      "source": [
        "c3 = 1\n",
        "c2 = -(1-sigma_B)\n",
        "c1 = sigma_A-3*sigma_B**2-2*sigma_B\n",
        "c0 = -(sigma_A*sigma_B-sigma_B**2-sigma_B**3)\n",
        "Z = var('Z', real=True)\n",
        "result = list(solveset(c3*Z**3+c2*Z**2+c1*Z+c0, Z, domain=S.Reals))\n",
        "z = result\n",
        "z"
      ],
      "metadata": {
        "colab": {
          "base_uri": "https://localhost:8080/"
        },
        "id": "8g_psLJt-RSu",
        "outputId": "98ed7fa0-b57d-4eef-ccb1-cdf853c8c55c"
      },
      "execution_count": 7,
      "outputs": [
        {
          "output_type": "execute_result",
          "data": {
            "text/plain": [
              "[0.714462374586724]"
            ]
          },
          "metadata": {},
          "execution_count": 7
        }
      ]
    },
    {
      "cell_type": "code",
      "source": [
        "MWa = 0\n",
        "for i in range (N):\n",
        "  MWa += MW[i]*y[i]\n",
        "print(\"Specific Gravity (SG) = \", MWa/28.97) "
      ],
      "metadata": {
        "colab": {
          "base_uri": "https://localhost:8080/"
        },
        "id": "Tp91fidDKvhd",
        "outputId": "71b8cb87-ee31-4dc0-e49b-214d6ddd5885"
      },
      "execution_count": 8,
      "outputs": [
        {
          "output_type": "stream",
          "name": "stdout",
          "text": [
            "Specific Gravity (SG) =  1.3168795305488439\n"
          ]
        }
      ]
    },
    {
      "cell_type": "code",
      "source": [
        "Bg = 0.0283* z[0]*(T+459.67)/P\n",
        "print(\"Gas Formation Volume Factor =\", Bg, \"cu-ft/scf\")"
      ],
      "metadata": {
        "colab": {
          "base_uri": "https://localhost:8080/"
        },
        "id": "gbHyECzmN6ci",
        "outputId": "0d79154a-c796-47ce-9e1b-255b724cf8ef"
      },
      "execution_count": 9,
      "outputs": [
        {
          "output_type": "stream",
          "name": "stdout",
          "text": [
            "Gas Formation Volume Factor = 0.00431122338813283 cu-ft/scf\n"
          ]
        }
      ]
    },
    {
      "cell_type": "code",
      "source": [
        "rho_g = 2.7*MWa/28.97*P/(z[0]*(T+459.67))\n",
        "print(\"Gas Density =\", rho_g, \"lbm/cu-ft\")"
      ],
      "metadata": {
        "colab": {
          "base_uri": "https://localhost:8080/"
        },
        "id": "I-Hb2pcpPmuk",
        "outputId": "de2f125e-f022-40a9-92f8-9066fb0b1d06"
      },
      "execution_count": 10,
      "outputs": [
        {
          "output_type": "stream",
          "name": "stdout",
          "text": [
            "Gas Density = 23.3397242198615 lbm/cu-ft\n"
          ]
        }
      ]
    },
    {
      "cell_type": "code",
      "source": [
        "def vis_g(T, MWa, rho):\n",
        "  A = ((9.379+0.01607*MWa)*(T+459.67)**1.5)/(209.2+19.26*MWa+(T+459.67))\n",
        "  B = 3.448+986.4/(T+459.67)+0.01009*MWa\n",
        "  C = 2.447-0.2224*B\n",
        "  return(A*exp(B*rho**C)/(10**4))\n",
        "print(\"Gas Viscosity=\", vis_g(T,MWa,rho_g/62.428), \"cP\")"
      ],
      "metadata": {
        "colab": {
          "base_uri": "https://localhost:8080/"
        },
        "id": "Q1uqfQ8xZ8jK",
        "outputId": "33a7ec79-c2ec-4a80-a572-f89018cc30a5"
      },
      "execution_count": 11,
      "outputs": [
        {
          "output_type": "stream",
          "name": "stdout",
          "text": [
            "Gas Viscosity= 0.0490099238115337 cP\n"
          ]
        }
      ]
    },
    {
      "cell_type": "code",
      "source": [
        "print(\"Z Factor from Beggs-Brill Correlation is\", ZBB(P,T))\n",
        "print(\"It deviates for\", abs(ZBB(P,T)-z[0])/ZBB(P,T)*100,\"%\")"
      ],
      "metadata": {
        "colab": {
          "base_uri": "https://localhost:8080/"
        },
        "id": "30_qOKHUFq5x",
        "outputId": "2a80c678-1796-4302-e7ae-474ad7ee3431"
      },
      "execution_count": 12,
      "outputs": [
        {
          "output_type": "stream",
          "name": "stdout",
          "text": [
            "Z Factor from Beggs-Brill Correlation is 0.7343039159817604\n",
            "It deviates for 2.70208846271892 %\n"
          ]
        }
      ]
    }
  ]
}