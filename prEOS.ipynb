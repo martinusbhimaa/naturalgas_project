{
  "nbformat": 4,
  "nbformat_minor": 0,
  "metadata": {
    "colab": {
      "name": "prEOS.ipynb",
      "provenance": []
    },
    "kernelspec": {
      "name": "python3",
      "display_name": "Python 3"
    },
    "language_info": {
      "name": "python"
    }
  },
  "cells": [
    {
      "cell_type": "markdown",
      "source": [
        "# Gas Deviation Factor Determination using PR EOS\n",
        "**From 0 to 1111 psi at 111 F**\n",
        "\n",
        "**Martinus Bhima Prajna I./12218010**"
      ],
      "metadata": {
        "id": "8joQRisusCO8"
      }
    },
    {
      "cell_type": "code",
      "execution_count": 73,
      "metadata": {
        "id": "sAneGra5rxvv"
      },
      "outputs": [],
      "source": [
        "# PENG-ROBINSON (PR) Equation of State (EOS)\n",
        "import math\n",
        "import numpy as np\n",
        "import pandas as pd\n",
        "from sympy import var, solveset, S\n",
        "from sympy import Symbol\n",
        "from matplotlib import pyplot as plt"
      ]
    },
    {
      "cell_type": "code",
      "source": [
        "def b(R,Tc,Pc):\n",
        "  return(0.0778*R*Tc/Pc)"
      ],
      "metadata": {
        "id": "N7qXvnPLr7Rb"
      },
      "execution_count": 74,
      "outputs": []
    },
    {
      "cell_type": "code",
      "source": [
        "def a(R,Tc,Pc):\n",
        "  return(0.45724*R*R*Tc*Tc/Pc)"
      ],
      "metadata": {
        "id": "Nq45UnZ8wItg"
      },
      "execution_count": 75,
      "outputs": []
    },
    {
      "cell_type": "code",
      "source": [
        "def a1(T):\n",
        "  w = 0.011\n",
        "  Tc = 190.4 #Critical Temperature Methane in Kelvin\n",
        "  Tr = T/Tc\n",
        "  beta = 0.37464+1.5422*w-0.26992*w**2\n",
        "  return((1+beta*(1-math.sqrt(Tr)))**2)"
      ],
      "metadata": {
        "id": "Vo-G_nfdwuLw"
      },
      "execution_count": 76,
      "outputs": []
    },
    {
      "cell_type": "code",
      "source": [
        "#Beggs-Brill Z Factor Correlation\n",
        "def ZBB(P,T):\n",
        "  Pc = 667.174\n",
        "  Pr = P/Pc\n",
        "  Tc = 346.97 #In Rankine\n",
        "  Tr = (T+460)/Tc\n",
        "  A = 1.39*(Tr-0.92)**0.5-0.36*Tr-0.101\n",
        "  A1 = (1-(1.39*(Tr-0.92)**0.5-0.36*Tr-0.101))/math.exp((0.62-0.23*Tr)*Pr+(0.066/(Tr-0.86)-0.037)*Pr**2+0.32/10**(9*(Tr-1))*Pr**6)\n",
        "  A2 = (0.132-0.32*math.log(Tr,10))*Pr**(10**(0.3106-0.49*Tr+0.1824*Tr**2))\n",
        "  return(A+A1+A2)"
      ],
      "metadata": {
        "id": "orqkJndvheG0"
      },
      "execution_count": 77,
      "outputs": []
    },
    {
      "cell_type": "code",
      "source": [
        "# Input Data\n",
        "T = 317.039 #In Kelvin\n",
        "R = 8.314\n",
        "Tc = 190.56\n",
        "Pc = 4.6 # Critical pressure in MPa "
      ],
      "metadata": {
        "id": "Y0g1aH-EDzo3"
      },
      "execution_count": 78,
      "outputs": []
    },
    {
      "cell_type": "code",
      "source": [
        "P = 0\n",
        "result_y = []\n",
        "result_x = []\n",
        "for P in range (0,1112,1):\n",
        "  P = P*0.00689476\n",
        "  A = a(R,Tc,Pc)*a1(T)*P/(R**2*T**2)\n",
        "  B = b(R,Tc,Pc)*P/(R*T)\n",
        "  c3 = 1\n",
        "  c2 = -(1-B)\n",
        "  c1 = A-3*B**2-2*B\n",
        "  c0 = -(A*B-B**2-B**3)\n",
        "  Z = Symbol('Z', real=True)\n",
        "  result = list(solveset(c3*Z**3+c2*Z**2+c1*Z+c0, Z, domain=S.Reals))\n",
        "  if len(result)>1:\n",
        "    result=result[1]\n",
        "  else:\n",
        "    result=result[0]\n",
        "  result_y.append(result)\n",
        "  result_x.append(P)\n",
        "# print (result_y)\n",
        "# print(result_x)"
      ],
      "metadata": {
        "id": "e17t1FgpIsE0"
      },
      "execution_count": 79,
      "outputs": []
    },
    {
      "cell_type": "code",
      "source": [
        "# Convert MPa to psi again\n",
        "result_x_psi=[]\n",
        "for i in range (len(result_x)):\n",
        "  result_x[i] = result_x[i]*145.038\n",
        "  result_x_psi.append(result_x[i])\n",
        "# print(result_x_psi)"
      ],
      "metadata": {
        "id": "G2BfYl1ahU1I"
      },
      "execution_count": 80,
      "outputs": []
    },
    {
      "cell_type": "code",
      "source": [
        "P = 0\n",
        "result_ycorr = []\n",
        "result_xcorr = []\n",
        "for P in range(0,1112,1):\n",
        "  Z_corr = ZBB(P,111)\n",
        "  result_ycorr.append(Z_corr)\n",
        "  result_xcorr.append(P)\n",
        "# print(result_ycorr)"
      ],
      "metadata": {
        "id": "UaOfjYCcpfEm"
      },
      "execution_count": 81,
      "outputs": []
    },
    {
      "cell_type": "code",
      "source": [
        "# dict = {'Pressure [psi]': result_x_psi, 'Gas Deviation Factor (Z)': result_y}\n",
        "# df = pd.DataFrame(dict)\n",
        "# # df.to_csv(\"result.csv\", index=\"False\")\n",
        "# df"
      ],
      "metadata": {
        "id": "HLu377WvxBYn"
      },
      "execution_count": 82,
      "outputs": []
    },
    {
      "cell_type": "code",
      "source": [
        "plt.figure(figsize=(8, 6))\n",
        "plt.plot(result_x_psi,result_y,linewidth=2.5, color=\"green\", label = \"PR EOS\")\n",
        "plt.plot(result_xcorr,result_ycorr,linewidth=2.5, color=\"red\", label = \"Brill-Beggs\")\n",
        "plt.xticks(np.arange(0, 1112, 200))\n",
        "# plt.yticks(np.arange(0.86, 1.01, 0.01))\n",
        "plt.xlabel(\"Pressure [psi]\")\n",
        "plt.ylabel(\"Gas Deviation Factor (Z)\")\n",
        "plt.legend()"
      ],
      "metadata": {
        "colab": {
          "base_uri": "https://localhost:8080/",
          "height": 405
        },
        "id": "zBL5oLD4icLK",
        "outputId": "d23b9263-7d4a-4568-8664-f8e47bd2eee1"
      },
      "execution_count": 83,
      "outputs": [
        {
          "output_type": "execute_result",
          "data": {
            "text/plain": [
              "<matplotlib.legend.Legend at 0x7fa1af347650>"
            ]
          },
          "metadata": {},
          "execution_count": 83
        },
        {
          "output_type": "display_data",
          "data": {
            "image/png": "[encoded data removed]",
            "text/plain": [
              "<Figure size 576x432 with 1 Axes>"
            ]
          },
          "metadata": {
            "needs_background": "light"
          }
        }
      ]
    }
  ]
}